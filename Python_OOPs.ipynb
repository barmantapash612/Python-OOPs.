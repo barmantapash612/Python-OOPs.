{
  "nbformat": 4,
  "nbformat_minor": 0,
  "metadata": {
    "colab": {
      "provenance": []
    },
    "kernelspec": {
      "name": "python3",
      "display_name": "Python 3"
    },
    "language_info": {
      "name": "python"
    }
  },
  "cells": [
    {
      "cell_type": "markdown",
      "source": [
        "# **Theory**"
      ],
      "metadata": {
        "id": "cvdSmzIVJISH"
      }
    },
    {
      "cell_type": "markdown",
      "source": [
        "**1.  What is Object-Oriented Programming (OOP)?**\n",
        "\n",
        "▶Sure! Here's a short and simple version:\n",
        "\n",
        "####**Object-Oriented Programming (OOP)**\n",
        "\n",
        "OOP is a programming style where we design programs using **classes** and **objects**.\n",
        "\n",
        "\n",
        "#### **Key Concepts (4 Pillars):**\n",
        "\n",
        "1. **Class** – A blueprint for creating objects  \n",
        "2. **Object** – An instance of a class  \n",
        "3. **Encapsulation** – Hiding internal details  \n",
        "4. **Inheritance** – Reusing code from other classes  \n",
        "5. **Polymorphism** – Same method, different behavior  \n",
        "6. **Abstraction** – Hiding complexity, showing only essentials.\n",
        "\n"
      ],
      "metadata": {
        "id": "NG5vGUCOtGGI"
      }
    },
    {
      "cell_type": "markdown",
      "source": [
        "**2 .  What is a class in OOP?**\n",
        "\n",
        "▶\n",
        "A **class** is a **blueprint** or **template** used to create **objects**.\n",
        "\n",
        "It defines:\n",
        "- **Attributes** (variables)\n",
        "- **Methods** (functions)\n",
        "\n",
        "But it doesn't store actual data until you create an **object** from it.\n",
        "\n",
        "#### Python Example:\n",
        "\n",
        "class Person:\n",
        "\n",
        "   def __init__(self, name, age)\n",
        "\n",
        "   self.name = name\n",
        "\n",
        "  self.age = age\n",
        "\n",
        " def speak(self):\n",
        "\n",
        "  print(f\"My name is {self.name} and I'm {self.age} years old.\")\n",
        "\n",
        "Now you can create **objects** from this class:\n",
        "\n",
        "p1 = Person(\"Alice\", 25)\n",
        "\n",
        "p1.speak()\n",
        "\n",
        "**In short**:  \n",
        "A **class** is like a **recipe**, and an **object** is the **cake** you make from it."
      ],
      "metadata": {
        "id": "URsS9yzFzUpM"
      }
    },
    {
      "cell_type": "markdown",
      "source": [
        "**3 What is an object in OOP?**\n",
        "\n",
        "▶\n",
        "\n",
        "An **object** is an **instance** of a **class**.\n",
        "\n",
        "It’s a **real-world entity** created using the class blueprint.  \n",
        "The object **holds actual data** and can **use methods** defined in the class.\n",
        "\n",
        "---\n",
        "\n",
        "#### Example in Python:\n",
        "\n",
        "class Dog:\n",
        "\n",
        "def __init__(self, name):\n",
        "\n",
        "  self.name = name\n",
        "\n",
        "def bark(self):\n",
        "\n",
        "  print(f\"{self.name} says woof!\")\n",
        "\n",
        "\n",
        "Now create an object:\n",
        "\n",
        "dog1 = Dog(\"Buddy\")\n",
        "\n",
        "dog1.bark()    Output: Buddy says woof!\n",
        "\n",
        "---\n",
        "\n",
        "**In short**:  \n",
        "A **class** is the plan, and an **object** is the real thing built from it.\n"
      ],
      "metadata": {
        "id": "lcd-y5OH0jNa"
      }
    },
    {
      "cell_type": "markdown",
      "source": [
        "**4 . What is the difference between abstraction and encapsulation?**\n",
        "\n",
        "▶Here’s a **simple and clear difference** between **Abstraction** and **Encapsulation**:\n",
        "\n",
        "---\n",
        "\n",
        "#### **Abstraction**  \n",
        "- **Hides** unnecessary **details** and shows only the **important things**  \n",
        "- Focuses on **what** an object does  \n",
        "- Example: You use a **mobile phone** to make calls, but you don’t know how the circuits work inside\n",
        "\n",
        "---\n",
        "\n",
        "#### **Encapsulation**  \n",
        "- **Wraps data and methods** into a single unit (class) and **hides** the internal state  \n",
        "- Focuses on **how** to protect the data  \n",
        "- Example: A **mobile phone's internal data** (battery, storage) is hidden from direct access—you interact using buttons or the screen only\n",
        "\n",
        "---\n",
        "\n",
        "#### **Key Differences**:\n",
        "\n",
        "| Feature         | Abstraction      | Encapsulation                          |\n",
        "|-----------------|------------------------------------|----------------------------------------|\n",
        "| Purpose         | Hides complexity                   | Protects data                          |\n",
        "| Focus           | What to do                         | How to do it                           |\n",
        "| Achieved by     | Abstract classes, interfaces       | Private variables, getter/setter       |\n",
        "| Real-world idea | Knowing **what** a device does     | Keeping its **parts sealed** inside    |\n",
        "\n",
        "---\n",
        "\n",
        " **In short**:  \n",
        "- **Abstraction** = Hides **complexity**  \n",
        "- **Encapsulation** = Hides **data**  "
      ],
      "metadata": {
        "id": "M7BSm3ec17sF"
      }
    },
    {
      "cell_type": "markdown",
      "source": [
        "**5 . What are dunder methods in Python?**\n",
        "\n",
        "▶\n",
        "**Dunder methods** (short for **Double UNDERscore**) are **special methods** in Python that start and end with **double underscores**, like:\n",
        "\n",
        "```python\n",
        "__init__, __str__, __len__, __add__, etc.\n",
        "```\n",
        "\n",
        "They are also known as **magic methods**.\n",
        "\n",
        "---\n",
        "\n",
        "#### Purpose:\n",
        "They allow you to **customize the behavior** of your objects — like how they’re created, displayed, compared, or added.\n",
        "\n",
        "---\n",
        "\n",
        "#### Common Dunder Methods:\n",
        "\n",
        "| Method       | Used For                         | Example                              |\n",
        "|--------------|----------------------------------|--------------------------------------|\n",
        "| `__init__`   | Constructor (initialization)     | Runs when object is created          |\n",
        "| `__str__`    | String representation            | `print(object)`                      |\n",
        "| `__len__`    | Length                           | `len(object)`                        |\n",
        "| `__add__`    | Add operator `+`                 | `obj1 + obj2`                        |\n",
        "| `__eq__`     | Equal comparison `==`            | `obj1 == obj2`                       |\n",
        "\n",
        "---\n",
        "\n",
        "#### Example:\n",
        "\n",
        "```python\n",
        "class Book:\n",
        "    def __init__(self, title):\n",
        "        self.title = title\n",
        "\n",
        "    def __str__(self):\n",
        "        return f\"Book: {self.title}\"\n",
        "\n",
        "b = Book(\"Python Basics\")\n",
        "print(b)  # Output: Book: Python Basics\n",
        "```\n",
        "\n",
        "---\n",
        "\n",
        " **In short**:  \n",
        "**Dunder methods** make your custom objects behave like **built-in types**.\n"
      ],
      "metadata": {
        "id": "yCKCqWYb3yXu"
      }
    },
    {
      "cell_type": "markdown",
      "source": [
        "**6 . Explain the concept of inheritance in OOP .**\n",
        "\n",
        "▶\n",
        "####  **Inheritance in OOP**:\n",
        "\n",
        "**Inheritance** allows a **child class** to inherit properties and methods from a **parent class**, enabling **code reuse**.\n",
        "\n",
        "- **Child class** can **extend** or **override** parent methods.\n",
        "- Makes it easier to create related classes without duplicating code.\n",
        "\n",
        "---\n",
        "\n",
        "#### Example:\n",
        "\n",
        "```python\n",
        "class Animal:\n",
        "    def speak(self):\n",
        "        return \"Some sound\"\n",
        "\n",
        "class Dog(Animal):\n",
        "    def speak(self):\n",
        "        return \"Bark\"\n",
        "\n",
        "d = Dog()\n",
        "print(d.speak())  # Output: Bark\n",
        "```\n",
        "\n"
      ],
      "metadata": {
        "id": "ZabgVsGt5LnP"
      }
    },
    {
      "cell_type": "markdown",
      "source": [
        "**7 . What is polymorphism in OOP?**\n",
        "\n",
        "▶\n",
        "\n",
        "#### 🔹 **Polymorphism in OOP**:\n",
        "**Polymorphism** allows methods to have the **same name** but behave differently based on the object.\n",
        "\n",
        "- It enables you to call the **same method** on different objects, and each one will respond in its own way.\n",
        "\n",
        "---\n",
        "\n",
        "#### Example:\n",
        "\n",
        "```python\n",
        "class Dog:\n",
        "    def speak(self):\n",
        "        return \"Bark\"\n",
        "\n",
        "class Cat:\n",
        "    def speak(self):\n",
        "        return \"Meow\"\n",
        "\n",
        "animals = [Dog(), Cat()]\n",
        "for animal in animals:\n",
        "    print(animal.speak())  # Output: Bark \\n Meow\n",
        "```"
      ],
      "metadata": {
        "id": "paLmZtSH6JKG"
      }
    },
    {
      "cell_type": "markdown",
      "source": [
        "8 . How is encapsulation achieved in Python?\n",
        "\n",
        "▶\n",
        "\n",
        "**Encapsulation** in Python is achieved by:\n",
        "\n",
        "1. **Defining class attributes as private** (using `__`)\n",
        "2. **Accessing/modifying them using methods** (getters and setters)\n",
        "\n",
        "---\n",
        "\n",
        "#### Example:\n",
        "\n",
        "```python\n",
        "class Person:\n",
        "    def __init__(self, name):\n",
        "        self.__name = name  # private attribute\n",
        "\n",
        "    def get_name(self):      # getter method\n",
        "        return self.__name\n",
        "\n",
        "    def set_name(self, name):  # setter method\n",
        "        self.__name = name\n",
        "```\n",
        "\n",
        "```python\n",
        "p = Person(\"Alice\")\n",
        "print(p.get_name())   # Output: Alice\n",
        "\n",
        "p.set_name(\"Bob\")\n",
        "print(p.get_name())   # Output: Bob\n",
        "```\n",
        "\n",
        "---\n",
        "\n",
        "#### In short:\n",
        "Encapsulation in Python is done using:\n",
        "- `__private_variables`\n",
        "- Getter & Setter methods to control access\n",
        "\n",
        "It helps to **protect data** from being accessed or modified directly."
      ],
      "metadata": {
        "id": "ZNhS0YvI68fD"
      }
    },
    {
      "cell_type": "markdown",
      "source": [
        "**9 . What is a constructor in Python?**\n",
        "\n",
        "▶\n",
        "A **constructor** is a **special method** in Python used to **initialize** objects when a class is created.\n",
        "\n",
        "---\n",
        "\n",
        "#### In Python, the constructor is:\n",
        "```python\n",
        "def __init__(self):\n",
        "```\n",
        "\n",
        "- Called **automatically** when you create an object\n",
        "- Used to **assign values** to object properties\n",
        "\n",
        "---\n",
        "\n",
        "#### Example:\n",
        "\n",
        "```python\n",
        "class Person:\n",
        "    def __init__(self, name, age):\n",
        "        self.name = name\n",
        "        self.age = age\n",
        "\n",
        "p = Person(\"Alice\", 25)\n",
        "print(p.name)  # Output: Alice\n",
        "print(p.age)   # Output: 25\n",
        "```\n",
        "\n",
        "---\n",
        "\n",
        "#### In short:\n",
        "A **constructor** is a method named `__init__()` that runs **automatically** to set up an object when it's created."
      ],
      "metadata": {
        "id": "1M8X6IbZ70Y4"
      }
    },
    {
      "cell_type": "markdown",
      "source": [
        "**10 . What are class and static methods in Python?**\n",
        "\n",
        "▶\n",
        "\n",
        "Both are special types of methods, but they work differently.\n",
        "\n",
        "---\n",
        "\n",
        "#### 1. **Class Method** (`@classmethod`)\n",
        "- Works **with the class**, not the object\n",
        "- First argument is `cls` (refers to the class)\n",
        "- Can access/modify **class-level data**\n",
        "\n",
        "```python\n",
        "class MyClass:\n",
        "    count = 0\n",
        "\n",
        "    @classmethod\n",
        "    def show_count(cls):\n",
        "        return cls.count\n",
        "```\n",
        "\n",
        "---\n",
        "\n",
        "#### 2. **Static Method** (`@staticmethod`)\n",
        "- Doesn't take `self` or `cls`\n",
        "- Acts like a **regular function**, but lives inside a class\n",
        "- Can't access object or class data directly\n",
        "\n",
        "```python\n",
        "class MyClass:\n",
        "    @staticmethod\n",
        "    def greet():\n",
        "        return \"Hello!\"\n",
        "```\n",
        "\n",
        "---\n",
        "\n",
        "####  In short:\n",
        "\n",
        "| Feature          | Class Method         | Static Method         |\n",
        "|------------------|----------------------|------------------------|\n",
        "| Uses `@classmethod` | ✅                   | ❌                     |\n",
        "| Uses `@staticmethod` | ❌                   | ✅                     |\n",
        "| First argument    | `cls` (class)        | None                  |\n",
        "| Accesses class data | ✅                   | ❌                     |\n",
        "| Use case          | Factory methods, modify class | Utility/helper functions |\n"
      ],
      "metadata": {
        "id": "yZsF393C8dlm"
      }
    },
    {
      "cell_type": "markdown",
      "source": [
        "**11 . What is method overloading in Python?**\n",
        "\n",
        "▶\n",
        "\n",
        "**Method overloading** means having **multiple methods** with the **same name** but **different parameters**.\n",
        "\n",
        "---\n",
        "\n",
        "####  In Python:\n",
        "\n",
        "Python **doesn't support traditional method overloading** like some other languages (e.g., Java).  \n",
        "But you can achieve similar behavior using:\n",
        "- **Default arguments**\n",
        "- **Variable-length arguments (`*args`, `**kwargs`)**\n",
        "\n",
        "---\n",
        "\n",
        "####  Example:\n",
        "\n",
        "```python\n",
        "class Greet:\n",
        "    def hello(self, name=None):\n",
        "        if name:\n",
        "            print(f\"Hello, {name}!\")\n",
        "        else:\n",
        "            print(\"Hello!\")\n",
        "\n",
        "g = Greet()\n",
        "g.hello()         # Output: Hello!\n",
        "g.hello(\"Alice\")  # Output: Hello, Alice!\n",
        "```\n",
        "\n",
        "---\n",
        "\n",
        "#### In short:\n",
        "\n",
        "- **Method overloading** is creating methods with the same name but different parameters.\n",
        "- **Python handles it** using **default or variable arguments**, not by defining multiple methods."
      ],
      "metadata": {
        "id": "6YFm9Rw39WlS"
      }
    },
    {
      "cell_type": "markdown",
      "source": [
        "**12 .  What is method overriding in OOP?**\n",
        "\n",
        "▶\n",
        "\n",
        "**Method overriding** means defining a **method in the child class** with the **same name and parameters** as one in the **parent class** — to **change its behavior**.\n",
        "\n",
        "---\n",
        "\n",
        "#### Python Example:\n",
        "\n",
        "```python\n",
        "class Animal:\n",
        "    def speak(self):\n",
        "        return \"Some sound\"\n",
        "\n",
        "class Dog(Animal):\n",
        "    def speak(self):\n",
        "        return \"Bark\"\n",
        "\n",
        "a = Animal()\n",
        "d = Dog()\n",
        "\n",
        "print(a.speak())  # Output: Some sound\n",
        "print(d.speak())  # Output: Bark\n",
        "```\n",
        "\n",
        "---\n",
        "\n",
        "#### In short:\n",
        "\n",
        "- **Method Overriding** = Child class **redefines** a method from the parent class.\n",
        "- It’s used to provide a **specific behavior** for the child class."
      ],
      "metadata": {
        "id": "E9a1gfoG-CY9"
      }
    },
    {
      "cell_type": "markdown",
      "source": [
        "**13 . What is a property decorator in Python?**\n",
        "\n",
        "▶\n",
        "\n",
        "The `@property` decorator is used to **make a method act like an attribute** — so you can **access it without parentheses**.\n",
        "\n",
        "It's a way to **encapsulate** and **control access** to class attributes (getters/setters) in a clean, Pythonic way.\n",
        "\n",
        "---\n",
        "\n",
        "#### Example:\n",
        "\n",
        "```python\n",
        "class Person:\n",
        "    def __init__(self, name):\n",
        "        self._name = name\n",
        "\n",
        "    @property\n",
        "    def name(self):           # Getter\n",
        "        return self._name\n",
        "\n",
        "    @name.setter\n",
        "    def name(self, value):    # Setter\n",
        "        self._name = value\n",
        "```\n",
        "\n",
        "```python\n",
        "p = Person(\"Alice\")\n",
        "print(p.name)     # Accesses like an attribute: Output -> Alice\n",
        "\n",
        "p.name = \"Bob\"    # Setter used here\n",
        "print(p.name)     # Output -> Bob\n",
        "```\n",
        "\n",
        "---\n",
        "\n",
        "#### In short:\n",
        "\n",
        "- `@property` lets you **access methods like attributes**\n",
        "- Helps in **encapsulation** (like using getter/setter)\n",
        "- Clean and Pythonic way to **control attribute access**"
      ],
      "metadata": {
        "id": "IcqrEIgn-mEw"
      }
    },
    {
      "cell_type": "markdown",
      "source": [
        "** 14 . Why is polymorphism important in OOP?**\n",
        "\n",
        "▶\n",
        "\n",
        "**Polymorphism** is important because it makes code more:\n",
        "\n",
        " **Flexible**  \n",
        " **Reusable**  \n",
        " **Easier to maintain and extend**\n",
        "\n",
        "---\n",
        "\n",
        "#### Key Benefits:\n",
        "\n",
        "1. **Code Reusability**  \n",
        "   You can write functions or loops that work with different types of objects.\n",
        "\n",
        "2. **Clean and Simple Code**  \n",
        "   One interface, many implementations — less duplication.\n",
        "\n",
        "3. **Extensibility**  \n",
        "   New classes can be added without changing existing code.\n",
        "\n",
        "---\n",
        "\n",
        "#### Example:\n",
        "\n",
        "```python\n",
        "class Bird:\n",
        "    def fly(self):\n",
        "        return \"Bird is flying\"\n",
        "\n",
        "class Airplane:\n",
        "    def fly(self):\n",
        "        return \"Airplane is flying\"\n",
        "\n",
        "def start_flying(thing):\n",
        "    print(thing.fly())\n",
        "\n",
        "start_flying(Bird())      # Output: Bird is flying\n",
        "start_flying(Airplane())  # Output: Airplane is flying\n",
        "```\n",
        "\n",
        "---\n",
        "\n",
        "#### In short:\n",
        "\n",
        "**Polymorphism** lets the **same method name** work across **different classes**, making your programs **cleaner, more flexible, and easier to scale**."
      ],
      "metadata": {
        "id": "fcE8VQeU_Mr3"
      }
    },
    {
      "cell_type": "markdown",
      "source": [
        "**15 . What is an abstract class in Python?**\n",
        "\n",
        "▶\n",
        "\n",
        "An **abstract class** is a class that **cannot be instantiated** (you can’t create objects from it directly) and is used as a **blueprint** for other classes.\n",
        "\n",
        "It can contain:\n",
        "- **Abstract methods** (declared but not implemented)\n",
        "- **Normal methods** (with implementation)\n",
        "\n",
        "---\n",
        "\n",
        "#### In Python, abstract classes are created using the `abc` module:\n",
        "\n",
        "```python\n",
        "from abc import ABC, abstractmethod\n",
        "\n",
        "class Animal(ABC):  # Abstract class\n",
        "    @abstractmethod\n",
        "    def sound(self):  # Abstract method\n",
        "        pass\n",
        "\n",
        "class Dog(Animal):\n",
        "    def sound(self):\n",
        "        return \"Bark\"\n",
        "```\n",
        "\n",
        "```python\n",
        "d = Dog()\n",
        "print(d.sound())  # Output: Bark\n",
        "```\n",
        "\n",
        "---\n",
        "\n",
        "###  Note:\n",
        "You **can’t create** an object of an abstract class:\n",
        "```python\n",
        "a = Animal()  # ❌ Error!\n",
        "```\n",
        "\n",
        "---\n",
        "\n",
        "#### In short:\n",
        "\n",
        "An **abstract class** is a **template class** that defines **common structure** for its child classes.  \n",
        "It ensures that **certain methods must be implemented** in the subclasses."
      ],
      "metadata": {
        "id": "0nyZLWus_5jc"
      }
    },
    {
      "cell_type": "markdown",
      "source": [
        "**16 . What are the advantages of OOP?**\n",
        "\n",
        "▶\n",
        "\n",
        "Here are the **main benefits** of using OOP:\n",
        "\n",
        "---\n",
        "\n",
        "#### 1. **Modularity**  \n",
        "- Code is organized into **classes and objects**  \n",
        "- Easier to **manage and debug**\n",
        "\n",
        "---\n",
        "\n",
        "#### 2. **Reusability**  \n",
        "- Use **existing code** through **inheritance**  \n",
        "- Avoid writing the same logic again\n",
        "\n",
        "---\n",
        "\n",
        "#### 3. **Encapsulation**  \n",
        "- **Protects data** by hiding internal details  \n",
        "- Only allows controlled access via methods\n",
        "\n",
        "---\n",
        "\n",
        "#### 4. **Polymorphism**  \n",
        "- Same function name works with **different objects**  \n",
        "- Makes code more **flexible and dynamic**\n",
        "\n",
        "---\n",
        "\n",
        "#### 5. **Abstraction**  \n",
        "- Shows only **essential features**  \n",
        "- Hides the complex logic from the user\n",
        "\n",
        "---\n",
        "\n",
        "#### 6. **Easier Maintenance & Upgrades**  \n",
        "- Changes in one part of the system **don’t affect others easily**  \n",
        "- Enhances code **scalability**\n",
        "\n",
        "---\n",
        "\n",
        "#### In short:\n",
        "\n",
        "OOP makes code more **organized, reusable, secure, and easier to maintain** — perfect for building **large and complex programs**."
      ],
      "metadata": {
        "id": "dxRosI2JAlZm"
      }
    },
    {
      "cell_type": "markdown",
      "source": [
        "**17 . What is the difference between a class variable and an instance variable?**\n",
        "\n",
        "▶ Difference Between Class Variable and Instance Variable in Python\n",
        "\n",
        "| Feature             | **Class Variable**                            | **Instance Variable**                          |\n",
        "|---------------------|-----------------------------------------------|------------------------------------------------|\n",
        "| Belongs to          | The **class** itself                          | A specific **object (instance)**               |\n",
        "| Shared by           | **All objects** of the class                  | **Unique** to each object                      |\n",
        "| Defined using       | Inside the **class**, but **outside methods** | Inside the **constructor (`__init__`)**        |\n",
        "| Use case            | Shared data like counters or constants        | Object-specific data like name, age, etc.      |\n",
        "\n",
        "---\n",
        "\n",
        "#### Example:\n",
        "\n",
        "```python\n",
        "class Car:\n",
        "    wheels = 4  # Class variable\n",
        "\n",
        "    def __init__(self, color):\n",
        "        self.color = color  # Instance variable\n",
        "\n",
        "car1 = Car(\"Red\")\n",
        "car2 = Car(\"Blue\")\n",
        "\n",
        "print(car1.wheels)  # Output: 4\n",
        "print(car2.color)   # Output: Blue\n",
        "```\n",
        "\n",
        "---\n",
        "\n",
        "#### In short:\n",
        "\n",
        "- **Class variable** = Shared by all objects  \n",
        "- **Instance variable** = Unique for each object"
      ],
      "metadata": {
        "id": "J99-JEJxBhVg"
      }
    },
    {
      "cell_type": "markdown",
      "source": [
        "**18 . What is multiple inheritance in Python?**\n",
        "\n",
        "▶\n",
        "\n",
        "**Multiple inheritance** allows a class to **inherit from more than one parent class**. This means that a **child class** can inherit **attributes and methods** from multiple **parent classes**.\n",
        "\n",
        "---\n",
        "\n",
        "#### Example:\n",
        "\n",
        "```python\n",
        "class Animal:\n",
        "    def speak(self):\n",
        "        return \"Some sound\"\n",
        "\n",
        "class Bird:\n",
        "    def fly(self):\n",
        "        return \"Flying in the sky\"\n",
        "\n",
        "class Parrot(Animal, Bird):  # Multiple inheritance\n",
        "    pass\n",
        "\n",
        "p = Parrot()\n",
        "print(p.speak())  # Output: Some sound\n",
        "print(p.fly())    # Output: Flying in the sky\n",
        "```\n",
        "\n",
        "---\n",
        "\n",
        "#### In short:\n",
        "**Multiple inheritance** means a class can **inherit features** from **more than one class**, allowing it to combine behaviors from different sources."
      ],
      "metadata": {
        "id": "joCR6So_CY9c"
      }
    },
    {
      "cell_type": "markdown",
      "source": [
        "**19 . Explain the purpose of ‘’__str__’ and ‘__repr__’ ‘ methods in Python.**\n",
        "\n",
        "▶\n",
        "Both `__str__` and `__repr__` are special methods in Python that define how an object should be represented as a string.\n",
        "\n",
        "---\n",
        "\n",
        "#### **Key Differences**:\n",
        "\n",
        "| Method             | **`__str__`**                              | **`__repr__`**                               |\n",
        "|--------------------|--------------------------------------------|---------------------------------------------|\n",
        "| Purpose            | For **human-readable** string representation | For **developer-readable** or debugging string |\n",
        "| Default Output     | Returns a simple string                     | Returns a more detailed string, usually for debugging |\n",
        "| Example            | `print()` or `str()` calls                  | Used in the interactive interpreter or `repr()` function |\n",
        "| Usage              | For printing and displaying to users       | For debugging and logging                    |\n",
        "\n",
        "---\n",
        "\n",
        "#### Example:\n",
        "\n",
        "```python\n",
        "class Person:\n",
        "    def __init__(self, name, age):\n",
        "        self.name = name\n",
        "        self.age = age\n",
        "\n",
        "    def __str__(self):\n",
        "        return f\"Person: {self.name}, Age: {self.age}\"\n",
        "\n",
        "    def __repr__(self):\n",
        "        return f\"Person('{self.name}', {self.age})\"\n",
        "\n",
        "p = Person(\"Alice\", 30)\n",
        "\n",
        "print(str(p))   # Output: Person: Alice, Age: 30\n",
        "print(repr(p))  # Output: Person('Alice', 30)\n",
        "```\n",
        "\n",
        "---\n",
        "\n",
        "#### In short:\n",
        "\n",
        "- **`__str__`**: For **user-friendly** string representation (when you want a **simple, readable output**).\n",
        "- **`__repr__`**: For **developer-friendly** or **debugging output** (more detailed, often returns something that could be used to recreate the object)."
      ],
      "metadata": {
        "id": "x-vNIbUwC72B"
      }
    },
    {
      "cell_type": "markdown",
      "source": [
        "**20 .What is the significance of the ‘super()’ function in Python?**\n",
        "\n",
        "▶\n",
        "The `super()` function in Python is used to call a **method** or access a **constructor** from a **parent class** (superclass) in a **child class** (subclass).\n",
        "\n",
        "---\n",
        "\n",
        "#### **Key Purposes of `super()`**:\n",
        "1. **Call Parent Class Methods**  \n",
        "   You can use `super()` to call methods from the **parent class**, allowing you to **extend** or **override** them in the child class.\n",
        "   \n",
        "2. **Avoid Explicit Class Name**  \n",
        "   Using `super()` allows you to call the parent class without needing to refer to it explicitly, making your code more maintainable.\n",
        "\n",
        "3. **Support for Multiple Inheritance**  \n",
        "   In case of **multiple inheritance**, `super()` helps to call the next class in the **method resolution order (MRO)**, which ensures that the method calls are handled correctly.\n",
        "\n",
        "---\n",
        "\n",
        "#### Example:\n",
        "\n",
        "```python\n",
        "class Animal:\n",
        "    def __init__(self, name):\n",
        "        self.name = name\n",
        "    \n",
        "    def speak(self):\n",
        "        return f\"{self.name} makes a sound\"\n",
        "\n",
        "class Dog(Animal):\n",
        "    def __init__(self, name, breed):\n",
        "        super().__init__(name)  # Calling the parent class constructor\n",
        "        self.breed = breed\n",
        "    \n",
        "    def speak(self):  # Overriding the speak method\n",
        "        return f\"{self.name} barks\"\n",
        "\n",
        "# Creating an object of Dog\n",
        "d = Dog(\"Buddy\", \"Golden Retriever\")\n",
        "print(d.speak())  # Output: Buddy barks\n",
        "```\n",
        "\n",
        "---\n",
        "\n",
        "#### In short:\n",
        "The **`super()`** function is used to:\n",
        "- **Call parent class methods and constructors**.\n",
        "- **Simplify** code and make it **more maintainable**.\n",
        "- Handle **multiple inheritance** effectively.\n",
        "\n"
      ],
      "metadata": {
        "id": "R_Ndjm74EF0y"
      }
    },
    {
      "cell_type": "markdown",
      "source": [
        "**21 . What is the significance of the __del__ method in Python?**\n",
        "\n",
        "▶\n",
        "The `__del__` method in Python is a **destructor** method, which is called when an **object is about to be destroyed** or **garbage collected**. It's used to **clean up** any resources or perform any final actions before the object is removed from memory.\n",
        "\n",
        "---\n",
        "\n",
        "#### **Purpose of `__del__`:**\n",
        "1. **Resource Cleanup**  \n",
        "   If an object uses external resources (like files, network connections, or database connections), `__del__` can be used to **close or release** them before the object is destroyed.\n",
        "   \n",
        "2. **Memory Management**  \n",
        "   It can help **free up memory** by performing necessary clean-up tasks, though Python's garbage collector usually handles memory cleanup.\n",
        "\n",
        "---\n",
        "\n",
        "#### Example:\n",
        "\n",
        "```python\n",
        "class FileHandler:\n",
        "    def __init__(self, filename):\n",
        "        self.filename = filename\n",
        "        self.file = open(filename, \"w\")\n",
        "\n",
        "    def write(self, content):\n",
        "        self.file.write(content)\n",
        "\n",
        "    def __del__(self):  # Destructor method\n",
        "        self.file.close()\n",
        "        print(f\"Closed file: {self.filename}\")\n",
        "\n",
        "# Creating an object\n",
        "handler = FileHandler(\"example.txt\")\n",
        "handler.write(\"Hello, world!\")\n",
        "\n",
        "# When the object is deleted or goes out of scope, __del__ is called\n",
        "del handler  # Output: Closed file: example.txt\n",
        "```\n",
        "\n",
        "---\n",
        "\n",
        "####   In short:\n",
        "The **`__del__`** method is called when an object is being **destroyed**, and it's used to **release resources** like files or network connections before the object is removed from memory. However, Python’s garbage collector often handles memory management automatically."
      ],
      "metadata": {
        "id": "AI_xALG_EjDE"
      }
    },
    {
      "cell_type": "markdown",
      "source": [
        "**22 .What is the difference between @staticmethod and @classmethod in Python?**\n",
        "\n",
        "▶ Difference Between `@staticmethod` and `@classmethod` in Python\n",
        "\n",
        "Both `@staticmethod` and `@classmethod` are used to define methods that are **not bound to instance objects**. However, they differ in how they interact with the class and its instances.\n",
        "\n",
        "---\n",
        "\n",
        "#### Key Differences:\n",
        "\n",
        "| Feature             | **`@staticmethod`**                           | **`@classmethod`**                              |\n",
        "|---------------------|----------------------------------------------|------------------------------------------------|\n",
        "| First parameter     | **No reference** to `self` or `cls`          | Takes a **reference to the class** (`cls`)     |\n",
        "| Usage               | Used when method does not need access to the class or instance. | Used when method needs access to the **class** itself. |\n",
        "| Can access instance data | ❌                                           | ✅                                              |\n",
        "| Can access class data | ❌                                           | ✅                                              |\n",
        "| Use case            | Utility functions that don't need the class or instance. | Factory methods or methods that work on class-level data. |\n",
        "\n",
        "---\n",
        "\n",
        "#### Examples:\n",
        "\n",
        "#### `@staticmethod`:\n",
        "\n",
        "```python\n",
        "class Math:\n",
        "    @staticmethod\n",
        "    def add(a, b):\n",
        "        return a + b\n",
        "\n",
        "# Call without class or instance\n",
        "print(Math.add(3, 4))  # Output: 7\n",
        "```\n",
        "\n",
        "#### `@classmethod`:\n",
        "\n",
        "```python\n",
        "class Dog:\n",
        "    species = \"Canine\"\n",
        "\n",
        "    @classmethod\n",
        "    def info(cls):\n",
        "        return f\"All dogs belong to the {cls.species} species.\"\n",
        "\n",
        "# Call using class\n",
        "print(Dog.info())  # Output: All dogs belong to the Canine species.\n",
        "```\n",
        "\n",
        "---\n",
        "\n",
        "#### In short:\n",
        "- **`@staticmethod`**: Doesn’t take `self` or `cls`; used for methods that don’t need access to the class or instance.\n",
        "- **`@classmethod`**: Takes `cls` as the first parameter; used for methods that need to access or modify the class-level data."
      ],
      "metadata": {
        "id": "vUdu7h-sFMa2"
      }
    },
    {
      "cell_type": "markdown",
      "source": [
        "**23 . How does polymorphism work in Python with inheritance?**\n",
        "\n",
        "▶\n",
        "**Polymorphism** in Python, when combined with **inheritance**, allows a child class to **override methods** of a parent class. This means you can **call the same method** on different objects (from different classes) and have them **behave differently** based on the class they belong to.\n",
        "\n",
        "#### **How it Works:**\n",
        "- A **child class** inherits from a **parent class**.\n",
        "- The **child class** can **override** methods from the **parent class**.\n",
        "- When you call the **method on an object**, Python determines which version of the method to use based on the object's **actual class**.\n",
        "\n",
        "---\n",
        "\n",
        "#### Example:\n",
        "\n",
        "```python\n",
        "class Animal:\n",
        "    def speak(self):\n",
        "        return \"Some sound\"\n",
        "\n",
        "class Dog(Animal):\n",
        "    def speak(self):\n",
        "        return \"Bark\"\n",
        "\n",
        "class Cat(Animal):\n",
        "    def speak(self):\n",
        "        return \"Meow\"\n",
        "\n",
        "# Polymorphism in action\n",
        "animals = [Dog(), Cat()]\n",
        "\n",
        "for animal in animals:\n",
        "    print(animal.speak())  # Output: Bark \\n Meow\n",
        "```\n",
        "\n",
        "---\n",
        "\n",
        "#### In short:\n",
        "With **inheritance**, **polymorphism** allows a **child class** to **override parent methods**, and when you call that method on an object, the correct method is used based on the **object's type**, not the variable’s type."
      ],
      "metadata": {
        "id": "uBiBlcfjF_pL"
      }
    },
    {
      "cell_type": "markdown",
      "source": [
        "**24 .  What is method chaining in Python OOP?**\n",
        "\n",
        "**Method chaining** is a technique in object-oriented programming where **multiple methods** are called on the same **object** in a **single line** of code. This is made possible when each method returns the **object itself** (i.e., `self`), allowing the next method to be called directly on the same object.\n",
        "\n",
        "---\n",
        "\n",
        "#### **How it Works:**\n",
        "- Each method returns the object itself (`self`), enabling you to **chain multiple method calls** in one statement.\n",
        "- This technique makes the code more **concise** and **expressive**.\n",
        "\n",
        "---\n",
        "\n",
        "#### Example:\n",
        "\n",
        "```python\n",
        "class Car:\n",
        "    def __init__(self, brand):\n",
        "        self.brand = brand\n",
        "        self.speed = 0\n",
        "\n",
        "    def accelerate(self, amount):\n",
        "        self.speed += amount\n",
        "        return self\n",
        "\n",
        "    def brake(self, amount):\n",
        "        self.speed -= amount\n",
        "        return self\n",
        "\n",
        "    def show_speed(self):\n",
        "        print(f\"Speed: {self.speed} km/h\")\n",
        "        return self\n",
        "\n",
        "# Method chaining example\n",
        "car = Car(\"Toyota\")\n",
        "car.accelerate(50).brake(20).show_speed()  # Output: Speed: 30 km/h\n",
        "```\n",
        "\n",
        "---\n",
        "\n",
        "#### In short:\n",
        "**Method chaining** allows you to call multiple methods on the same object in a **single line**, making the code more **concise** and **easy to read**. Methods in a chain must return `self` to enable this."
      ],
      "metadata": {
        "id": "sOIYk2_1GmVs"
      }
    },
    {
      "cell_type": "markdown",
      "source": [
        "**25 . What is the purpose of the __call__ method in Python?**\n",
        "\n",
        "▶\n",
        "\n",
        "The `__call__` method in Python allows an **object** of a class to be **called like a function**. It is a special method that is triggered when an instance of a class is **called** as if it were a function.\n",
        "\n",
        "#### **Purpose:**\n",
        "- **Make objects callable**: You can define what happens when you \"call\" an object, making it behave like a function.\n",
        "- **Custom behavior**: It provides a way to implement function-like behavior in objects, enabling more flexible designs.\n",
        "\n",
        "---\n",
        "\n",
        "#### Example:\n",
        "\n",
        "```python\n",
        "class Adder:\n",
        "    def __init__(self, value):\n",
        "        self.value = value\n",
        "\n",
        "    def __call__(self, num):\n",
        "        return self.value + num\n",
        "\n",
        "# Creating an object\n",
        "add_five = Adder(5)\n",
        "\n",
        "# Calling the object like a function\n",
        "result = add_five(10)  # Output: 15\n",
        "\n",
        "print(result)\n",
        "```\n",
        "\n",
        "---\n",
        "\n",
        "#### In short:\n",
        "The `__call__` method allows an **object** to be **called** like a **function**, enabling custom behavior when the object is invoked. This is particularly useful in cases where an object should behave like a function but still retain its identity as an object."
      ],
      "metadata": {
        "id": "h8sbUpHbIjUS"
      }
    },
    {
      "cell_type": "markdown",
      "source": [
        "# **Practical Questions**"
      ],
      "metadata": {
        "id": "kHbAJDE6Js8T"
      }
    },
    {
      "cell_type": "code",
      "source": [
        "'''  1. Create a parent class Animal with a method speak() that prints a generic message. Create a child class Dog\n",
        " that overrides the speak() method to print \"Bark!\".'''\n",
        "\n",
        "class Animal:\n",
        "    def speak(self):\n",
        "        print(\"Generic animal sound\")\n",
        "\n",
        "class Dog(Animal):\n",
        "    def speak(self):\n",
        "        print(\"Bark!\")\n",
        "\n",
        "# Example usage\n",
        "animal = Animal()\n",
        "animal.speak()  # Output: Generic animal sound\n",
        "\n",
        "dog = Dog()\n",
        "dog.speak()  # Output: Bark!\n"
      ],
      "metadata": {
        "colab": {
          "base_uri": "https://localhost:8080/"
        },
        "id": "mYV6uvYNJ5gR",
        "outputId": "5a4b8223-ffbd-4f9a-af0d-1fcc698b5e80"
      },
      "execution_count": null,
      "outputs": [
        {
          "output_type": "stream",
          "name": "stdout",
          "text": [
            "Generic animal sound\n",
            "Bark!\n"
          ]
        }
      ]
    },
    {
      "cell_type": "code",
      "source": [
        "''' 2. Write a program to create an abstract class Shape with a method area(). Derive classes Circle and Rectangle\n",
        "from it and implement the area() method in both.'''\n",
        "from abc import ABC, abstractmethod\n",
        "import math\n",
        "\n",
        "# Abstract base class\n",
        "class Shape(ABC):\n",
        "    @abstractmethod\n",
        "    def area(self):\n",
        "        pass\n",
        "\n",
        "# Derived class: Circle\n",
        "class Circle(Shape):\n",
        "    def __init__(self, radius):\n",
        "        self.radius = radius\n",
        "\n",
        "    def area(self):\n",
        "        return math.pi * self.radius * self.radius\n",
        "\n",
        "# Derived class: Rectangle\n",
        "class Rectangle(Shape):\n",
        "    def __init__(self, length, width):\n",
        "        self.length = length\n",
        "        self.width = width\n",
        "\n",
        "    def area(self):\n",
        "        return self.length * self.width\n",
        "\n",
        "# Creating objects\n",
        "c = Circle(5)\n",
        "r = Rectangle(4, 6)\n",
        "\n",
        "# Printing areas\n",
        "print(\"Circle area:\", c.area())       # Output: Circle area: 78.54...\n",
        "print(\"Rectangle area:\", r.area())    # Output: Rectangle area: 24\n"
      ],
      "metadata": {
        "colab": {
          "base_uri": "https://localhost:8080/"
        },
        "id": "gIIHhYu3LK94",
        "outputId": "c0cbce5a-3592-4e69-b57b-749b978082a9"
      },
      "execution_count": null,
      "outputs": [
        {
          "output_type": "stream",
          "name": "stdout",
          "text": [
            "Circle area: 78.53981633974483\n",
            "Rectangle area: 24\n"
          ]
        }
      ]
    },
    {
      "cell_type": "code",
      "source": [
        "''' 3. Implement a multi-level inheritance scenario where a class Vehicle has an attribute type. Derive a class Car\n",
        "and further derive a class ElectricCar that adds a battery attribute.'''\n",
        "\n",
        "# Base class\n",
        "class Vehicle:\n",
        "    def __init__(self, vehicle_type):\n",
        "        self.type = vehicle_type\n",
        "\n",
        "# Derived class from Vehicle\n",
        "class Car(Vehicle):\n",
        "    def __init__(self, vehicle_type, brand):\n",
        "        super().__init__(vehicle_type)\n",
        "        self.brand = brand\n",
        "\n",
        "# Derived class from Car (multi-level inheritance)\n",
        "class ElectricCar(Car):\n",
        "    def __init__(self, vehicle_type, brand, battery):\n",
        "        super().__init__(vehicle_type, brand)\n",
        "        self.battery = battery\n",
        "\n",
        "    def display_info(self):\n",
        "        print(f\"Type: {self.type}\")\n",
        "        print(f\"Brand: {self.brand}\")\n",
        "        print(f\"Battery: {self.battery} kWh\")\n",
        "\n",
        "# Creating an object of ElectricCar\n",
        "tesla = ElectricCar(\"Car\", \"Tesla\", 75)\n",
        "tesla.display_info()\n",
        "\n",
        "# Output:\n",
        "# Type: Car\n",
        "# Brand: Tesla\n",
        "# Battery: 75 kWh\n",
        "\n"
      ],
      "metadata": {
        "colab": {
          "base_uri": "https://localhost:8080/"
        },
        "id": "lA6dAo_pLvZH",
        "outputId": "af245e0f-c5f5-4c0d-9da5-1f3b4c191ee4"
      },
      "execution_count": null,
      "outputs": [
        {
          "output_type": "stream",
          "name": "stdout",
          "text": [
            "Type: Car\n",
            "Brand: Tesla\n",
            "Battery: 75 kWh\n"
          ]
        }
      ]
    },
    {
      "cell_type": "code",
      "source": [
        "'''4. Demonstrate polymorphism by creating a base class Bird with a method fly(). Create two derived classes\n",
        "Sparrow and Penguin that override the fly() method.'''\n",
        "# Base class\n",
        "class Bird:\n",
        "    def fly(self):\n",
        "        print(\"Some bird is flying.\")\n",
        "\n",
        "# Derived class: Sparrow\n",
        "class Sparrow(Bird):\n",
        "    def fly(self):\n",
        "        print(\"Sparrow flies high in the sky.\")\n",
        "\n",
        "# Derived class: Penguin\n",
        "class Penguin(Bird):\n",
        "    def fly(self):\n",
        "        print(\"Penguins can't fly but they swim well.\")\n",
        "\n",
        "# Polymorphism in action\n",
        "birds = [Sparrow(), Penguin()]\n",
        "\n",
        "for bird in birds:\n",
        "    bird.fly()\n",
        "\n",
        "# Output:\n",
        "# Sparrow flies high in the sky.\n",
        "# Penguins can't fly but they swim well.\n"
      ],
      "metadata": {
        "colab": {
          "base_uri": "https://localhost:8080/"
        },
        "id": "aJoaZlQGMja5",
        "outputId": "fa36f48b-52a5-4b9f-920a-a388694866b0"
      },
      "execution_count": null,
      "outputs": [
        {
          "output_type": "stream",
          "name": "stdout",
          "text": [
            "Sparrow flies high in the sky.\n",
            "Penguins can't fly but they swim well.\n"
          ]
        }
      ]
    },
    {
      "cell_type": "code",
      "source": [
        "'''5. Write a program to demonstrate encapsulation by creating a class BankAccount with private attributes\n",
        "balance and methods to deposit, withdraw, and check balance.'''\n",
        "class BankAccount:\n",
        "    def __init__(self, initial_balance=0):\n",
        "        self.__balance = initial_balance  # Private attribute\n",
        "\n",
        "    # Method to deposit money\n",
        "    def deposit(self, amount):\n",
        "        if amount > 0:\n",
        "            self.__balance += amount\n",
        "            print(f\"Deposited: ${amount}\")\n",
        "        else:\n",
        "            print(\"Deposit amount must be positive.\")\n",
        "\n",
        "    # Method to withdraw money\n",
        "    def withdraw(self, amount):\n",
        "        if amount <= self.__balance:\n",
        "            self.__balance -= amount\n",
        "            print(f\"Withdrawn: ${amount}\")\n",
        "        else:\n",
        "            print(\"Insufficient balance.\")\n",
        "\n",
        "    # Method to check balance\n",
        "    def check_balance(self):\n",
        "        print(f\"Current Balance: ${self.__balance}\")\n",
        "\n",
        "# Using the BankAccount class\n",
        "account = BankAccount(100)\n",
        "account.deposit(50)         # Output: Deposited: $50\n",
        "account.withdraw(30)        # Output: Withdrawn: $30\n",
        "account.check_balance()     # Output: Current Balance: $120\n",
        "\n",
        "# Trying to access the private attribute directly (will fail)\n",
        "# print(account.__balance)  # This will raise an AttributeError\n"
      ],
      "metadata": {
        "colab": {
          "base_uri": "https://localhost:8080/"
        },
        "id": "CYCflbtqM0a7",
        "outputId": "0bbc02b2-556b-4fd6-f7b2-52186f8fb449"
      },
      "execution_count": null,
      "outputs": [
        {
          "output_type": "stream",
          "name": "stdout",
          "text": [
            "Deposited: $50\n",
            "Withdrawn: $30\n",
            "Current Balance: $120\n"
          ]
        }
      ]
    },
    {
      "cell_type": "code",
      "source": [
        "'''6. Demonstrate runtime polymorphism using a method play() in a base class Instrument. Derive classes Guitar\n",
        "and Piano that implement their own version of play().'''\n",
        "# Base class\n",
        "class Instrument:\n",
        "    def play(self):\n",
        "        print(\"Instrument is being played.\")\n",
        "\n",
        "# Derived class: Guitar\n",
        "class Guitar(Instrument):\n",
        "    def play(self):\n",
        "        print(\"Strumming the guitar.\")\n",
        "\n",
        "# Derived class: Piano\n",
        "class Piano(Instrument):\n",
        "    def play(self):\n",
        "        print(\"Playing the piano keys.\")\n",
        "\n",
        "# Runtime polymorphism in action\n",
        "instruments = [Guitar(), Piano()]\n",
        "\n",
        "for instrument in instruments:\n",
        "    instrument.play()\n",
        "\n",
        "# Output:\n",
        "# Strumming the guitar.\n",
        "# Playing the piano keys.\n"
      ],
      "metadata": {
        "colab": {
          "base_uri": "https://localhost:8080/"
        },
        "id": "KFY06cfFN2Iq",
        "outputId": "18d48c83-346b-4ecd-c648-8f679a96d6eb"
      },
      "execution_count": null,
      "outputs": [
        {
          "output_type": "stream",
          "name": "stdout",
          "text": [
            "Strumming the guitar.\n",
            "Playing the piano keys.\n"
          ]
        }
      ]
    },
    {
      "cell_type": "code",
      "source": [
        "'''7. Create a class MathOperations with a class method add_numbers() to add two numbers and a static\n",
        "method subtract_numbers() to subtract two numbers.'''\n",
        "class MathOperations:\n",
        "    @classmethod\n",
        "    def add_numbers(cls, a, b):\n",
        "        return a + b\n",
        "\n",
        "    @staticmethod\n",
        "    def subtract_numbers(a, b):\n",
        "        return a - b\n",
        "\n",
        "# Using the class method\n",
        "sum_result = MathOperations.add_numbers(10, 5)\n",
        "print(\"Sum:\", sum_result)  # Output: Sum: 15\n",
        "\n",
        "# Using the static method\n",
        "diff_result = MathOperations.subtract_numbers(10, 5)\n",
        "print(\"Difference:\", diff_result)  # Output: Difference: 5\n"
      ],
      "metadata": {
        "colab": {
          "base_uri": "https://localhost:8080/"
        },
        "id": "OTrOoNX2OFXi",
        "outputId": "cd8e18fb-c1b3-4d1b-bc4e-939cfacdd8de"
      },
      "execution_count": null,
      "outputs": [
        {
          "output_type": "stream",
          "name": "stdout",
          "text": [
            "Sum: 15\n",
            "Difference: 5\n"
          ]
        }
      ]
    },
    {
      "cell_type": "code",
      "source": [
        "'''8. Implement a class Person with a class method to count the total number of persons created.'''\n",
        "class Person:\n",
        "    count = 0  # Class variable to count number of persons\n",
        "\n",
        "    def __init__(self, name):\n",
        "        self.name = name\n",
        "        Person.count += 1  # Increment count when a new person is created\n",
        "\n",
        "    @classmethod\n",
        "    def total_persons(cls):\n",
        "        return cls.count\n",
        "\n",
        "# Creating Person objects\n",
        "p1 = Person(\"Alice\")\n",
        "p2 = Person(\"Bob\")\n",
        "p3 = Person(\"Charlie\")\n",
        "\n",
        "# Getting total number of persons\n",
        "print(\"Total persons created:\", Person.total_persons())\n",
        "# Output: Total persons created: 3\n"
      ],
      "metadata": {
        "colab": {
          "base_uri": "https://localhost:8080/"
        },
        "id": "B6RyAtNQOTrU",
        "outputId": "761309a7-dd9c-4035-c967-41e1d771c48c"
      },
      "execution_count": null,
      "outputs": [
        {
          "output_type": "stream",
          "name": "stdout",
          "text": [
            "Total persons created: 3\n"
          ]
        }
      ]
    },
    {
      "cell_type": "code",
      "source": [
        "'''9. Write a class Fraction with attributes numerator and denominator. Override the str method to display the\n",
        "fraction as \"numerator/denominator\".'''\n",
        "class Fraction:\n",
        "    def __init__(self, numerator, denominator):\n",
        "        self.numerator = numerator\n",
        "        self.denominator = denominator\n",
        "\n",
        "    def __str__(self):\n",
        "        return f\"{self.numerator}/{self.denominator}\"\n",
        "\n",
        "# Creating and printing a Fraction object\n",
        "f = Fraction(3, 4)\n",
        "print(f)  # Output: 3/4\n",
        "\n"
      ],
      "metadata": {
        "colab": {
          "base_uri": "https://localhost:8080/"
        },
        "id": "0Z1JTrT3Ou7Z",
        "outputId": "789bc29f-7619-4b98-de53-846a030d9078"
      },
      "execution_count": null,
      "outputs": [
        {
          "output_type": "stream",
          "name": "stdout",
          "text": [
            "3/4\n"
          ]
        }
      ]
    },
    {
      "cell_type": "code",
      "source": [
        "'''10. Demonstrate operator overloading by creating a class Vector and overriding the add method to add two\n",
        "vectors.'''\n",
        "class Vector:\n",
        "    def __init__(self, x, y):\n",
        "        self.x = x\n",
        "        self.y = y\n",
        "\n",
        "    def __add__(self, other):\n",
        "        # Overloading the + operator to add two vectors\n",
        "        return Vector(self.x + other.x, self.y + other.y)\n",
        "\n",
        "    def __str__(self):\n",
        "        return f\"({self.x}, {self.y})\"\n",
        "\n",
        "# Creating two Vector objects\n",
        "v1 = Vector(2, 3)\n",
        "v2 = Vector(4, 5)\n",
        "\n",
        "# Adding two vectors using the overloaded + operator\n",
        "result = v1 + v2\n",
        "\n",
        "# Printing the result\n",
        "print(\"Result of adding vectors:\", result)  # Output: Result of adding vectors: (6, 8)\n"
      ],
      "metadata": {
        "colab": {
          "base_uri": "https://localhost:8080/"
        },
        "id": "5VA6aPc5O6ut",
        "outputId": "3ee7aa32-8232-41e9-8934-fa3b594d1b2e"
      },
      "execution_count": null,
      "outputs": [
        {
          "output_type": "stream",
          "name": "stdout",
          "text": [
            "Result of adding vectors: (6, 8)\n"
          ]
        }
      ]
    },
    {
      "cell_type": "code",
      "source": [
        "'''11. Create a class Person with attributes name and age. Add a method greet() that prints \"Hello, my name is\n",
        "{name} and I am {age} years old.\"'''\n",
        "class Person:\n",
        "    def __init__(self, name, age):\n",
        "        self.name = name\n",
        "        self.age = age\n",
        "\n",
        "    def greet(self):\n",
        "        print(f\"Hello, my name is {self.name} and I am {self.age} years old.\")\n",
        "\n",
        "# Creating a Person object\n",
        "person1 = Person(\"Alice\", 30)\n",
        "\n",
        "# Calling the greet method\n",
        "person1.greet()  # Output: Hello, my name is Alice and I am 30 years old.\n",
        "\n",
        "\n",
        "\n"
      ],
      "metadata": {
        "colab": {
          "base_uri": "https://localhost:8080/"
        },
        "id": "RU9kg0XaPigQ",
        "outputId": "2476bec2-5155-45b1-96d7-4ba5481e2b1b"
      },
      "execution_count": null,
      "outputs": [
        {
          "output_type": "stream",
          "name": "stdout",
          "text": [
            "Hello, my name is Alice and I am 30 years old.\n"
          ]
        }
      ]
    },
    {
      "cell_type": "code",
      "source": [
        "'''12. Implement a class Student with attributes name and grades. Create a method average_grade() to compute\n",
        "the average of the grades.'''\n",
        "class Student:\n",
        "    def __init__(self, name, grades):\n",
        "        self.name = name\n",
        "        self.grades = grades  # grades should be a list of numbers\n",
        "\n",
        "    def average_grade(self):\n",
        "        if self.grades:  # Check if grades list is not empty\n",
        "            return sum(self.grades) / len(self.grades)\n",
        "        else:\n",
        "            return 0  # If no grades, return 0\n",
        "\n",
        "# Creating a Student object\n",
        "student1 = Student(\"Alice\", [90, 85, 88, 92])\n",
        "\n",
        "# Calculating and printing the average grade\n",
        "print(f\"{student1.name}'s average grade is: {student1.average_grade()}\")\n",
        "# Output: Alice's average grade is: 88.75\n"
      ],
      "metadata": {
        "colab": {
          "base_uri": "https://localhost:8080/"
        },
        "id": "V-kOgMchPvDF",
        "outputId": "c3703c29-adf8-4799-b94d-28638f9fc79e"
      },
      "execution_count": null,
      "outputs": [
        {
          "output_type": "stream",
          "name": "stdout",
          "text": [
            "Alice's average grade is: 88.75\n"
          ]
        }
      ]
    },
    {
      "cell_type": "code",
      "source": [
        "'''13. Create a class Rectangle with methods set_dimensions() to set the dimensions and area() to calculate the\n",
        "area.'''\n",
        "class Rectangle:\n",
        "    def __init__(self):\n",
        "        self.length = 0\n",
        "        self.width = 0\n",
        "\n",
        "    def set_dimensions(self, length, width):\n",
        "        self.length = length\n",
        "        self.width = width\n",
        "\n",
        "    def area(self):\n",
        "        return self.length * self.width\n",
        "\n",
        "# Creating a Rectangle object\n",
        "rectangle = Rectangle()\n",
        "\n",
        "# Setting the dimensions of the rectangle\n",
        "rectangle.set_dimensions(5, 3)\n",
        "\n",
        "# Calculating and printing the area\n",
        "print(f\"The area of the rectangle is: {rectangle.area()}\")  # Output: The area of the rectangle is: 15\n"
      ],
      "metadata": {
        "colab": {
          "base_uri": "https://localhost:8080/"
        },
        "id": "oS9AAjl9P_WM",
        "outputId": "8e18b64b-8c8d-475a-e41d-fbc3c01dc837"
      },
      "execution_count": null,
      "outputs": [
        {
          "output_type": "stream",
          "name": "stdout",
          "text": [
            "The area of the rectangle is: 15\n"
          ]
        }
      ]
    },
    {
      "cell_type": "code",
      "source": [
        "'''14. Create a class Employee with a method calculate_salary() that computes the salary based on hours worked\n",
        "and hourly rate. Create a derived class Manager that adds a bonus to the salary.'''\n",
        "# Base class: Employee\n",
        "class Employee:\n",
        "    def __init__(self, name, hours_worked, hourly_rate):\n",
        "        self.name = name\n",
        "        self.hours_worked = hours_worked\n",
        "        self.hourly_rate = hourly_rate\n",
        "\n",
        "    def calculate_salary(self):\n",
        "        return self.hours_worked * self.hourly_rate\n",
        "\n",
        "# Derived class: Manager\n",
        "class Manager(Employee):\n",
        "    def __init__(self, name, hours_worked, hourly_rate, bonus):\n",
        "        super().__init__(name, hours_worked, hourly_rate)\n",
        "        self.bonus = bonus\n",
        "\n",
        "    def calculate_salary(self):\n",
        "        # Adding bonus to the base salary\n",
        "        base_salary = super().calculate_salary()\n",
        "        return base_salary + self.bonus\n",
        "\n",
        "# Creating an Employee object\n",
        "employee = Employee(\"Alice\", 40, 20)\n",
        "print(f\"{employee.name}'s salary: ${employee.calculate_salary()}\")  # Output: Alice's salary: $800\n",
        "\n",
        "# Creating a Manager object\n",
        "manager = Manager(\"Bob\", 40, 30, 500)\n",
        "print(f\"{manager.name}'s salary (with bonus): ${manager.calculate_salary()}\")  # Output: Bob's salary (with bonus): $1700\n"
      ],
      "metadata": {
        "colab": {
          "base_uri": "https://localhost:8080/"
        },
        "id": "23o6w0NWQLal",
        "outputId": "7effccc3-427a-4a6e-bf23-1a888ed024b6"
      },
      "execution_count": null,
      "outputs": [
        {
          "output_type": "stream",
          "name": "stdout",
          "text": [
            "Alice's salary: $800\n",
            "Bob's salary (with bonus): $1700\n"
          ]
        }
      ]
    },
    {
      "cell_type": "code",
      "source": [
        "'''15. Create a class Product with attributes name, price, and quantity. Implement a method total_price() that\n",
        "calculates the total price of the product.'''\n",
        "class Product:\n",
        "    def __init__(self, name, price, quantity):\n",
        "        self.name = name\n",
        "        self.price = price\n",
        "        self.quantity = quantity\n",
        "\n",
        "    def total_price(self):\n",
        "        return self.price * self.quantity\n",
        "\n",
        "# Creating a Product object\n",
        "product = Product(\"Laptop\", 1000, 3)\n",
        "\n",
        "# Calculating and printing the total price\n",
        "print(f\"Total price of {product.name}: ${product.total_price()}\")  # Output: Total price of Laptop: $3000\n"
      ],
      "metadata": {
        "colab": {
          "base_uri": "https://localhost:8080/"
        },
        "id": "mwrmvxJGQswa",
        "outputId": "2157e127-46b9-4d8b-96e5-476c09f5a189"
      },
      "execution_count": null,
      "outputs": [
        {
          "output_type": "stream",
          "name": "stdout",
          "text": [
            "Total price of Laptop: $3000\n"
          ]
        }
      ]
    },
    {
      "cell_type": "code",
      "source": [
        "'''16. Create a class Animal with an abstract method sound(). Create two derived classes Cow and Sheep that\n",
        "implement the sound() method.'''\n",
        "from abc import ABC, abstractmethod\n",
        "\n",
        "# Abstract base class\n",
        "class Animal(ABC):\n",
        "    @abstractmethod\n",
        "    def sound(self):\n",
        "        pass\n",
        "\n",
        "# Derived class: Cow\n",
        "class Cow(Animal):\n",
        "    def sound(self):\n",
        "        print(\"Moo!\")\n",
        "\n",
        "# Derived class: Sheep\n",
        "class Sheep(Animal):\n",
        "    def sound(self):\n",
        "        print(\"Baa!\")\n",
        "\n",
        "# Creating objects and calling the sound method\n",
        "cow = Cow()\n",
        "sheep = Sheep()\n",
        "\n",
        "cow.sound()  # Output: Moo!\n",
        "sheep.sound()  # Output: Baa!\n"
      ],
      "metadata": {
        "colab": {
          "base_uri": "https://localhost:8080/"
        },
        "id": "5Tz36ADWSEQF",
        "outputId": "0b3d1256-73b8-42d5-d2ad-01681fa28f3b"
      },
      "execution_count": 26,
      "outputs": [
        {
          "output_type": "stream",
          "name": "stdout",
          "text": [
            "Moo!\n",
            "Baa!\n"
          ]
        }
      ]
    },
    {
      "cell_type": "code",
      "source": [
        "'''17. Create a class Book with attributes title, author, and year_published. Add a method get_book_info() that\n",
        "returns a formatted string with the book's details.'''\n",
        "class Book:\n",
        "    def __init__(self, title, author, year_published):\n",
        "        self.title = title\n",
        "        self.author = author\n",
        "        self.year_published = year_published\n",
        "\n",
        "    def get_book_info(self):\n",
        "        return f\"Title: {self.title}\\nAuthor: {self.author}\\nYear Published: {self.year_published}\"\n",
        "\n",
        "# Creating a Book object\n",
        "book = Book(\"To Kill a Mockingbird\", \"Harper Lee\", 1960)\n",
        "\n",
        "# Getting and printing the book information\n",
        "print(book.get_book_info())\n",
        "\n",
        "# Output:\n",
        "# Title: To Kill a Mockingbird\n",
        "# Author: Harper Lee\n",
        "# Year Published: 1960\n"
      ],
      "metadata": {
        "colab": {
          "base_uri": "https://localhost:8080/"
        },
        "id": "O03OOazVSq0w",
        "outputId": "adb040a6-6311-4b88-bb12-8cd4f0c9adf9"
      },
      "execution_count": 27,
      "outputs": [
        {
          "output_type": "stream",
          "name": "stdout",
          "text": [
            "Title: To Kill a Mockingbird\n",
            "Author: Harper Lee\n",
            "Year Published: 1960\n"
          ]
        }
      ]
    },
    {
      "cell_type": "code",
      "source": [
        "'''18. Create a class House with attributes address and price. Create a derived class Mansion that adds an\n",
        "attribute number_of_rooms.'''\n",
        "# Base class: House\n",
        "class House:\n",
        "    def __init__(self, address, price):\n",
        "        self.address = address\n",
        "        self.price = price\n",
        "\n",
        "    def get_info(self):\n",
        "        return f\"Address: {self.address}\\nPrice: ${self.price}\"\n",
        "\n",
        "# Derived class: Mansion\n",
        "class Mansion(House):\n",
        "    def __init__(self, address, price, number_of_rooms):\n",
        "        super().__init__(address, price)  # Calling the constructor of the base class\n",
        "        self.number_of_rooms = number_of_rooms\n",
        "\n",
        "    def get_info(self):\n",
        "        base_info = super().get_info()  # Get info from the base class\n",
        "        return f\"{base_info}\\nNumber of Rooms: {self.number_of_rooms}\"\n",
        "\n",
        "# Creating objects\n",
        "house = House(\"123 Main St\", 250000)\n",
        "mansion = Mansion(\"456 Luxury Ave\", 1500000, 10)\n",
        "\n",
        "# Printing info about the house and mansion\n",
        "print(house.get_info())\n",
        "# Output: Address: 123 Main St\n",
        "#         Price: $250000\n",
        "\n",
        "print(\"\\n\")\n",
        "\n",
        "print(mansion.get_info())\n",
        "# Output: Address: 456 Luxury Ave\n",
        "#         Price: $1500000\n",
        "#         Number of Rooms: 10\n"
      ],
      "metadata": {
        "colab": {
          "base_uri": "https://localhost:8080/"
        },
        "id": "DebzwNP3TC5M",
        "outputId": "4630f063-7f78-41fd-b812-b9492021f103"
      },
      "execution_count": 28,
      "outputs": [
        {
          "output_type": "stream",
          "name": "stdout",
          "text": [
            "Address: 123 Main St\n",
            "Price: $250000\n",
            "\n",
            "\n",
            "Address: 456 Luxury Ave\n",
            "Price: $1500000\n",
            "Number of Rooms: 10\n"
          ]
        }
      ]
    }
  ]
}